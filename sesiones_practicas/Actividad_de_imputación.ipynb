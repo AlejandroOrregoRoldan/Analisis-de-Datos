{
  "nbformat": 4,
  "nbformat_minor": 0,
  "metadata": {
    "colab": {
      "provenance": [],
      "toc_visible": true
    },
    "kernelspec": {
      "name": "python3",
      "display_name": "Python 3"
    },
    "language_info": {
      "name": "python"
    }
  },
  "cells": [
    {
      "cell_type": "markdown",
      "source": [
        "# Ejercicio 1. Limpieza e imputación de un conjunto de datos mixto"
      ],
      "metadata": {
        "id": "JOjOlA4xHWGu"
      }
    },
    {
      "cell_type": "code",
      "source": [
        "import pandas as pd\n",
        "import numpy as np\n",
        "\n",
        "df = pd.DataFrame({\n",
        "    'Nombre': ['Ana', 'Luis', 'Pedro', None, 'Marta', 'Luis', 'Sofía'],\n",
        "    'Edad': [25, np.nan, 35, 29, -5, 25, None],\n",
        "    'Ciudad': ['Bogotá', 'Medellín', None, 'Medellín', 'Cali', 'Bogotá', 'Cali'],\n",
        "    'Ingreso': [3500, 4800, np.nan, 5200, 5100, np.nan, 4700],\n",
        "    'FechaIngreso': ['2023-01-01', '2023-01-05', None, '2023-01-10', '2023-01-12', None, '2023-01-15']\n",
        "})"
      ],
      "metadata": {
        "id": "8apR27iSHlgF"
      },
      "execution_count": 298,
      "outputs": []
    },
    {
      "cell_type": "markdown",
      "source": [
        "DataFrame Original"
      ],
      "metadata": {
        "id": "M80Ow_brH9Ol"
      }
    },
    {
      "cell_type": "code",
      "source": [
        "print(df)"
      ],
      "metadata": {
        "colab": {
          "base_uri": "https://localhost:8080/"
        },
        "id": "QxRJdmUeHv_c",
        "outputId": "e0c1f9eb-c4ef-47f9-e03c-1c864bcba39b"
      },
      "execution_count": 299,
      "outputs": [
        {
          "output_type": "stream",
          "name": "stdout",
          "text": [
            "  Nombre  Edad    Ciudad  Ingreso FechaIngreso\n",
            "0    Ana  25.0    Bogotá   3500.0   2023-01-01\n",
            "1   Luis   NaN  Medellín   4800.0   2023-01-05\n",
            "2  Pedro  35.0      None      NaN         None\n",
            "3   None  29.0  Medellín   5200.0   2023-01-10\n",
            "4  Marta  -5.0      Cali   5100.0   2023-01-12\n",
            "5   Luis  25.0    Bogotá      NaN         None\n",
            "6  Sofía   NaN      Cali   4700.0   2023-01-15\n"
          ]
        }
      ]
    },
    {
      "cell_type": "markdown",
      "source": [
        "Información Inicial y Nulos"
      ],
      "metadata": {
        "id": "MN7UYwYsH-wM"
      }
    },
    {
      "cell_type": "code",
      "source": [
        "df.info()"
      ],
      "metadata": {
        "colab": {
          "base_uri": "https://localhost:8080/"
        },
        "id": "YjpBayCgHv8d",
        "outputId": "5b9dbe3b-197f-4d32-da49-eaf2ee8a87b3"
      },
      "execution_count": 300,
      "outputs": [
        {
          "output_type": "stream",
          "name": "stdout",
          "text": [
            "<class 'pandas.core.frame.DataFrame'>\n",
            "RangeIndex: 7 entries, 0 to 6\n",
            "Data columns (total 5 columns):\n",
            " #   Column        Non-Null Count  Dtype  \n",
            "---  ------        --------------  -----  \n",
            " 0   Nombre        6 non-null      object \n",
            " 1   Edad          5 non-null      float64\n",
            " 2   Ciudad        6 non-null      object \n",
            " 3   Ingreso       5 non-null      float64\n",
            " 4   FechaIngreso  5 non-null      object \n",
            "dtypes: float64(2), object(3)\n",
            "memory usage: 412.0+ bytes\n"
          ]
        }
      ]
    },
    {
      "cell_type": "markdown",
      "source": [
        "## Proceso de limpieza e imputación"
      ],
      "metadata": {
        "id": "w3EzQ_4bIGm8"
      }
    },
    {
      "cell_type": "markdown",
      "source": [
        "###Corregir Edad negativa"
      ],
      "metadata": {
        "id": "aIsrjRfQIKrk"
      }
    },
    {
      "cell_type": "code",
      "source": [
        "df['Edad'] = df['Edad'].apply(lambda x: np.nan if x < 0 else x)\n",
        "print(df)"
      ],
      "metadata": {
        "colab": {
          "base_uri": "https://localhost:8080/"
        },
        "id": "pL62-G-fHv5c",
        "outputId": "4d7a7df0-af8f-48df-a79f-eecf3a66fe8a"
      },
      "execution_count": 301,
      "outputs": [
        {
          "output_type": "stream",
          "name": "stdout",
          "text": [
            "  Nombre  Edad    Ciudad  Ingreso FechaIngreso\n",
            "0    Ana  25.0    Bogotá   3500.0   2023-01-01\n",
            "1   Luis   NaN  Medellín   4800.0   2023-01-05\n",
            "2  Pedro  35.0      None      NaN         None\n",
            "3   None  29.0  Medellín   5200.0   2023-01-10\n",
            "4  Marta   NaN      Cali   5100.0   2023-01-12\n",
            "5   Luis  25.0    Bogotá      NaN         None\n",
            "6  Sofía   NaN      Cali   4700.0   2023-01-15\n"
          ]
        }
      ]
    },
    {
      "cell_type": "markdown",
      "source": [
        "Se convierte la edad negativa (-5) a NaN porque no es correcto asumir que el dato correcto (ej. 5)"
      ],
      "metadata": {
        "id": "_qeyIVccJEGy"
      }
    },
    {
      "cell_type": "markdown",
      "source": [
        "### Eliminar duplicados"
      ],
      "metadata": {
        "id": "xB9EDT03Jj_R"
      }
    },
    {
      "cell_type": "markdown",
      "source": [
        "Eliminare duplicados basandome en el nombre y la edad"
      ],
      "metadata": {
        "id": "xBRTg9MuKkyn"
      }
    },
    {
      "cell_type": "code",
      "source": [
        "df.drop_duplicates(subset=['Nombre', 'Edad'], inplace=True)\n",
        "print(df)"
      ],
      "metadata": {
        "colab": {
          "base_uri": "https://localhost:8080/"
        },
        "id": "y0YYwidpJo84",
        "outputId": "3e929c33-8d1d-4504-fb8f-9ab318693f5a"
      },
      "execution_count": 302,
      "outputs": [
        {
          "output_type": "stream",
          "name": "stdout",
          "text": [
            "  Nombre  Edad    Ciudad  Ingreso FechaIngreso\n",
            "0    Ana  25.0    Bogotá   3500.0   2023-01-01\n",
            "1   Luis   NaN  Medellín   4800.0   2023-01-05\n",
            "2  Pedro  35.0      None      NaN         None\n",
            "3   None  29.0  Medellín   5200.0   2023-01-10\n",
            "4  Marta   NaN      Cali   5100.0   2023-01-12\n",
            "5   Luis  25.0    Bogotá      NaN         None\n",
            "6  Sofía   NaN      Cali   4700.0   2023-01-15\n"
          ]
        }
      ]
    },
    {
      "cell_type": "markdown",
      "source": [
        "### Imputar valores faltantes"
      ],
      "metadata": {
        "id": "KCecamSuK0m2"
      }
    },
    {
      "cell_type": "markdown",
      "source": [
        "#### Imputación para 'Nombre':"
      ],
      "metadata": {
        "id": "M9pgQ-YvLA7N"
      }
    },
    {
      "cell_type": "markdown",
      "source": [
        "Un nombre faltante no se puede adivinar por lo que la mejor estrategia es eliminar la fila."
      ],
      "metadata": {
        "id": "qMafdtL3LGnV"
      }
    },
    {
      "cell_type": "code",
      "source": [
        "df.dropna(subset=['Nombre'], inplace=True)\n",
        "print(df)"
      ],
      "metadata": {
        "colab": {
          "base_uri": "https://localhost:8080/"
        },
        "id": "1lU6_2ZqHv00",
        "outputId": "254891e1-5b30-489a-df01-33ea57b79f47"
      },
      "execution_count": 303,
      "outputs": [
        {
          "output_type": "stream",
          "name": "stdout",
          "text": [
            "  Nombre  Edad    Ciudad  Ingreso FechaIngreso\n",
            "0    Ana  25.0    Bogotá   3500.0   2023-01-01\n",
            "1   Luis   NaN  Medellín   4800.0   2023-01-05\n",
            "2  Pedro  35.0      None      NaN         None\n",
            "4  Marta   NaN      Cali   5100.0   2023-01-12\n",
            "5   Luis  25.0    Bogotá      NaN         None\n",
            "6  Sofía   NaN      Cali   4700.0   2023-01-15\n"
          ]
        }
      ]
    },
    {
      "cell_type": "markdown",
      "source": [
        "#### Imputación para 'Edad':"
      ],
      "metadata": {
        "id": "YCQ5gzKtLQ0V"
      }
    },
    {
      "cell_type": "markdown",
      "source": [
        "Usare la mediana para imputar la edad"
      ],
      "metadata": {
        "id": "sLo5uGXcNIIx"
      }
    },
    {
      "cell_type": "code",
      "source": [
        "mediana_edad = df['Edad'].median()\n",
        "df['Edad'] = df['Edad'].fillna(mediana_edad)\n",
        "print(f\"La mediana de las edades es {mediana_edad}\")\n",
        "print(df)"
      ],
      "metadata": {
        "colab": {
          "base_uri": "https://localhost:8080/"
        },
        "id": "FUbUCBYwHvuk",
        "outputId": "a1851ed4-e93b-44ed-8fb4-836a35463180"
      },
      "execution_count": 304,
      "outputs": [
        {
          "output_type": "stream",
          "name": "stdout",
          "text": [
            "La mediana de las edades es 25.0\n",
            "  Nombre  Edad    Ciudad  Ingreso FechaIngreso\n",
            "0    Ana  25.0    Bogotá   3500.0   2023-01-01\n",
            "1   Luis  25.0  Medellín   4800.0   2023-01-05\n",
            "2  Pedro  35.0      None      NaN         None\n",
            "4  Marta  25.0      Cali   5100.0   2023-01-12\n",
            "5   Luis  25.0    Bogotá      NaN         None\n",
            "6  Sofía  25.0      Cali   4700.0   2023-01-15\n"
          ]
        }
      ]
    },
    {
      "cell_type": "markdown",
      "source": [
        "####Imputación para 'Ciudad':"
      ],
      "metadata": {
        "id": "5vxzFSKlNrrB"
      }
    },
    {
      "cell_type": "markdown",
      "source": [
        "Para variables categóricas, usare la moda."
      ],
      "metadata": {
        "id": "BscadMArNyuw"
      }
    },
    {
      "cell_type": "code",
      "source": [
        "moda_ciudad = df['Ciudad'].mode()[0]\n",
        "df['Ciudad']=df['Ciudad'].fillna(moda_ciudad)\n",
        "print(df)"
      ],
      "metadata": {
        "colab": {
          "base_uri": "https://localhost:8080/"
        },
        "id": "1DymlpaFHvjk",
        "outputId": "3f50d7c6-e927-4720-8775-3d6620dc7d19"
      },
      "execution_count": 305,
      "outputs": [
        {
          "output_type": "stream",
          "name": "stdout",
          "text": [
            "  Nombre  Edad    Ciudad  Ingreso FechaIngreso\n",
            "0    Ana  25.0    Bogotá   3500.0   2023-01-01\n",
            "1   Luis  25.0  Medellín   4800.0   2023-01-05\n",
            "2  Pedro  35.0    Bogotá      NaN         None\n",
            "4  Marta  25.0      Cali   5100.0   2023-01-12\n",
            "5   Luis  25.0    Bogotá      NaN         None\n",
            "6  Sofía  25.0      Cali   4700.0   2023-01-15\n"
          ]
        }
      ]
    },
    {
      "cell_type": "markdown",
      "source": [
        "AL tener 3 modas \"Bogotá,Medellín y Cali\" le agregue [0] al final para romper el empate"
      ],
      "metadata": {
        "id": "pvz5OxH1OfrP"
      }
    },
    {
      "cell_type": "markdown",
      "source": [
        "####Imputación para 'Ingreso':"
      ],
      "metadata": {
        "id": "uq00UsBxO1se"
      }
    },
    {
      "cell_type": "markdown",
      "source": [
        "Asi como con edad utilizare la mediana ya que el ingreso es un dato que casi siempre tiene valores atipicos, y si usaramos la moda podria no reflejar un valor que se acerque a la mayoria de los ingresos"
      ],
      "metadata": {
        "id": "4ilKoXkLPhqU"
      }
    },
    {
      "cell_type": "code",
      "source": [
        "mediana_ingreso = df['Ingreso'].median()\n",
        "df['Ingreso']=df['Ingreso'].fillna(mediana_ingreso)\n",
        "print(df)"
      ],
      "metadata": {
        "colab": {
          "base_uri": "https://localhost:8080/"
        },
        "id": "MJEKjBgqHvbF",
        "outputId": "f7937375-6544-4c67-8b91-4178a8c809ad"
      },
      "execution_count": 306,
      "outputs": [
        {
          "output_type": "stream",
          "name": "stdout",
          "text": [
            "  Nombre  Edad    Ciudad  Ingreso FechaIngreso\n",
            "0    Ana  25.0    Bogotá   3500.0   2023-01-01\n",
            "1   Luis  25.0  Medellín   4800.0   2023-01-05\n",
            "2  Pedro  35.0    Bogotá   4750.0         None\n",
            "4  Marta  25.0      Cali   5100.0   2023-01-12\n",
            "5   Luis  25.0    Bogotá   4750.0         None\n",
            "6  Sofía  25.0      Cali   4700.0   2023-01-15\n"
          ]
        }
      ]
    },
    {
      "cell_type": "markdown",
      "source": [
        "#### Imputación para 'FechaIngreso':"
      ],
      "metadata": {
        "id": "FZcOerj8QfS6"
      }
    },
    {
      "cell_type": "markdown",
      "source": [
        "Para fechas, usare el método 'forward fill' que propaga la última observación válida hacia adelante."
      ],
      "metadata": {
        "id": "mAKWWdf0QkaC"
      }
    },
    {
      "cell_type": "code",
      "source": [
        "df['FechaIngreso'].ffill(inplace=True)\n",
        "print(df)"
      ],
      "metadata": {
        "colab": {
          "base_uri": "https://localhost:8080/"
        },
        "id": "XcUTq4IbQevS",
        "outputId": "88ca20a3-6c25-483e-eb12-ebfeaaee75ca"
      },
      "execution_count": 307,
      "outputs": [
        {
          "output_type": "stream",
          "name": "stdout",
          "text": [
            "  Nombre  Edad    Ciudad  Ingreso FechaIngreso\n",
            "0    Ana  25.0    Bogotá   3500.0   2023-01-01\n",
            "1   Luis  25.0  Medellín   4800.0   2023-01-05\n",
            "2  Pedro  35.0    Bogotá   4750.0   2023-01-05\n",
            "4  Marta  25.0      Cali   5100.0   2023-01-12\n",
            "5   Luis  25.0    Bogotá   4750.0   2023-01-12\n",
            "6  Sofía  25.0      Cali   4700.0   2023-01-15\n"
          ]
        },
        {
          "output_type": "stream",
          "name": "stderr",
          "text": [
            "/tmp/ipython-input-197810735.py:1: FutureWarning: A value is trying to be set on a copy of a DataFrame or Series through chained assignment using an inplace method.\n",
            "The behavior will change in pandas 3.0. This inplace method will never work because the intermediate object on which we are setting values always behaves as a copy.\n",
            "\n",
            "For example, when doing 'df[col].method(value, inplace=True)', try using 'df.method({col: value}, inplace=True)' or df[col] = df[col].method(value) instead, to perform the operation inplace on the original object.\n",
            "\n",
            "\n",
            "  df['FechaIngreso'].ffill(inplace=True)\n"
          ]
        }
      ]
    },
    {
      "cell_type": "markdown",
      "source": [
        "###DataFrame Limpio y Completo"
      ],
      "metadata": {
        "id": "GN-xWxdLRen6"
      }
    },
    {
      "cell_type": "code",
      "source": [
        "print(df)"
      ],
      "metadata": {
        "colab": {
          "base_uri": "https://localhost:8080/"
        },
        "id": "rEm-WTr1Ri3Y",
        "outputId": "72d8ef07-b6f0-4b38-f047-8bd73711966c"
      },
      "execution_count": 308,
      "outputs": [
        {
          "output_type": "stream",
          "name": "stdout",
          "text": [
            "  Nombre  Edad    Ciudad  Ingreso FechaIngreso\n",
            "0    Ana  25.0    Bogotá   3500.0   2023-01-01\n",
            "1   Luis  25.0  Medellín   4800.0   2023-01-05\n",
            "2  Pedro  35.0    Bogotá   4750.0   2023-01-05\n",
            "4  Marta  25.0      Cali   5100.0   2023-01-12\n",
            "5   Luis  25.0    Bogotá   4750.0   2023-01-12\n",
            "6  Sofía  25.0      Cali   4700.0   2023-01-15\n"
          ]
        }
      ]
    },
    {
      "cell_type": "markdown",
      "source": [
        "#### Verificación Final de Nulos"
      ],
      "metadata": {
        "id": "RGf-xx5wRmkY"
      }
    },
    {
      "cell_type": "code",
      "source": [
        "print(df.isnull().sum())"
      ],
      "metadata": {
        "colab": {
          "base_uri": "https://localhost:8080/"
        },
        "id": "7uN_YsbZRpNA",
        "outputId": "70382a16-164c-451f-89f0-0b26f1a6f94c"
      },
      "execution_count": 309,
      "outputs": [
        {
          "output_type": "stream",
          "name": "stdout",
          "text": [
            "Nombre          0\n",
            "Edad            0\n",
            "Ciudad          0\n",
            "Ingreso         0\n",
            "FechaIngreso    0\n",
            "dtype: int64\n"
          ]
        }
      ]
    },
    {
      "cell_type": "markdown",
      "source": [
        "# Ejercicio 2. Limpieza de duplicados\n"
      ],
      "metadata": {
        "id": "saR8BQ_lHZlt"
      }
    },
    {
      "cell_type": "code",
      "source": [
        "df_duplicados = pd.DataFrame({\n",
        "    'ID': [101, 102, 102, 103, 104, 104, 104],\n",
        "    'Nombre': ['Ana', 'Luis', 'Luis', 'Marta', 'Carlos', 'Carlos', 'Carlos'],\n",
        "    'Edad': [25, 30, 30, 29, 40, 40, 41],\n",
        "    'Ciudad': ['Bogotá', 'Cali', 'Cali', 'Medellín', 'Cali', 'Cali', 'Cali'],\n",
        "    'FechaRegistro': ['2023-01-01', '2023-01-05', '2023-01-05', '2023-01-10',\n",
        "                    '2023-01-15', '2023-01-15', '2023-01-16']\n",
        "})"
      ],
      "metadata": {
        "id": "TPHk74kSR-f_"
      },
      "execution_count": 310,
      "outputs": []
    },
    {
      "cell_type": "markdown",
      "source": [
        "DataFrame Original"
      ],
      "metadata": {
        "id": "ZRWnLxlkSKtP"
      }
    },
    {
      "cell_type": "code",
      "source": [
        "print(df_duplicados)"
      ],
      "metadata": {
        "colab": {
          "base_uri": "https://localhost:8080/"
        },
        "id": "XuxkFhhhR-dy",
        "outputId": "add255ab-5ba2-4ded-aa78-d91bb6ea0664"
      },
      "execution_count": 311,
      "outputs": [
        {
          "output_type": "stream",
          "name": "stdout",
          "text": [
            "    ID  Nombre  Edad    Ciudad FechaRegistro\n",
            "0  101     Ana    25    Bogotá    2023-01-01\n",
            "1  102    Luis    30      Cali    2023-01-05\n",
            "2  102    Luis    30      Cali    2023-01-05\n",
            "3  103   Marta    29  Medellín    2023-01-10\n",
            "4  104  Carlos    40      Cali    2023-01-15\n",
            "5  104  Carlos    40      Cali    2023-01-15\n",
            "6  104  Carlos    41      Cali    2023-01-16\n"
          ]
        }
      ]
    },
    {
      "cell_type": "markdown",
      "source": [
        "##¿Cuál es el total de registros originales?\n"
      ],
      "metadata": {
        "id": "St_TWWn6Syml"
      }
    },
    {
      "cell_type": "code",
      "source": [
        "total_original = len(df_duplicados)\n",
        "print(f\"Total de registros originales: {total_original}\")"
      ],
      "metadata": {
        "colab": {
          "base_uri": "https://localhost:8080/"
        },
        "id": "bTFlpQ7JR-bt",
        "outputId": "8f95157c-368e-49b7-e80c-ddbd63e0b286"
      },
      "execution_count": 312,
      "outputs": [
        {
          "output_type": "stream",
          "name": "stdout",
          "text": [
            "Total de registros originales: 7\n"
          ]
        }
      ]
    },
    {
      "cell_type": "markdown",
      "source": [
        "##¿Cuáles y cuántos son los duplicados exactos?\n"
      ],
      "metadata": {
        "id": "AhRoY40MS2sF"
      }
    },
    {
      "cell_type": "code",
      "source": [
        "duplicados_exactos = df_duplicados[df_duplicados.duplicated(keep=False)]\n",
        "num_duplicados_exactos = df_duplicados.duplicated().sum()\n",
        "print(duplicados_exactos)\n",
        "print(f\"Hay {num_duplicados_exactos} registros duplicados para eliminar.\")"
      ],
      "metadata": {
        "colab": {
          "base_uri": "https://localhost:8080/"
        },
        "id": "73Cxq0B7R-XP",
        "outputId": "212ecace-29bc-4235-bec6-6bc83cffae29"
      },
      "execution_count": 313,
      "outputs": [
        {
          "output_type": "stream",
          "name": "stdout",
          "text": [
            "    ID  Nombre  Edad Ciudad FechaRegistro\n",
            "1  102    Luis    30   Cali    2023-01-05\n",
            "2  102    Luis    30   Cali    2023-01-05\n",
            "4  104  Carlos    40   Cali    2023-01-15\n",
            "5  104  Carlos    40   Cali    2023-01-15\n",
            "Hay 2 registros duplicados para eliminar.\n"
          ]
        }
      ]
    },
    {
      "cell_type": "markdown",
      "source": [
        "##¿Cuáles y cuántos son los duplicados por varias columnas?"
      ],
      "metadata": {
        "id": "ROAuLtepTfJs"
      }
    },
    {
      "cell_type": "markdown",
      "source": [
        "Por ejemplo, buscare duplicados por 'ID' y 'Nombre'."
      ],
      "metadata": {
        "id": "agwNW5BgT1Er"
      }
    },
    {
      "cell_type": "code",
      "source": [
        "duplicados_parciales = df_duplicados[df_duplicados.duplicated(subset=['ID', 'Nombre'], keep=False)]\n",
        "num_duplicados_parciales = df_duplicados.duplicated(subset=['ID', 'Nombre']).sum()\n",
        "print(\"Registros duplicados por 'ID' y 'Nombre':\")\n",
        "print(duplicados_parciales)\n",
        "print(f\"Hay {num_duplicados_parciales} registros duplicados por estas columnas.\")"
      ],
      "metadata": {
        "colab": {
          "base_uri": "https://localhost:8080/"
        },
        "id": "tVhgZ8OYR-U3",
        "outputId": "09644853-71b8-4332-e477-9eede35f7e56"
      },
      "execution_count": 314,
      "outputs": [
        {
          "output_type": "stream",
          "name": "stdout",
          "text": [
            "Registros duplicados por 'ID' y 'Nombre':\n",
            "    ID  Nombre  Edad Ciudad FechaRegistro\n",
            "1  102    Luis    30   Cali    2023-01-05\n",
            "2  102    Luis    30   Cali    2023-01-05\n",
            "4  104  Carlos    40   Cali    2023-01-15\n",
            "5  104  Carlos    40   Cali    2023-01-15\n",
            "6  104  Carlos    41   Cali    2023-01-16\n",
            "Hay 3 registros duplicados por estas columnas.\n"
          ]
        }
      ]
    },
    {
      "cell_type": "markdown",
      "source": [
        "## ¿Cuántos registros debes eliminar?"
      ],
      "metadata": {
        "id": "88wydHHdUjT6"
      }
    },
    {
      "cell_type": "code",
      "source": [
        "registros_a_eliminar = num_duplicados_exactos\n",
        "print(f\"Se deben eliminar {registros_a_eliminar} registros.\")"
      ],
      "metadata": {
        "colab": {
          "base_uri": "https://localhost:8080/"
        },
        "id": "K12IsowsR-Sj",
        "outputId": "5a271e9d-f341-482f-a4e2-39d3c6d8b303"
      },
      "execution_count": 315,
      "outputs": [
        {
          "output_type": "stream",
          "name": "stdout",
          "text": [
            "Se deben eliminar 2 registros.\n"
          ]
        }
      ]
    },
    {
      "cell_type": "markdown",
      "source": [
        "## ¿Cuántos registros quedan después de la limpieza?"
      ],
      "metadata": {
        "id": "9Qo71GH6U_Eb"
      }
    },
    {
      "cell_type": "code",
      "source": [
        "df_limpio = df_duplicados.drop_duplicates()\n",
        "registros_finales = len(df_limpio)\n",
        "print(df_limpio)\n",
        "print(f\"Quedan {registros_finales} registros después de eliminar los duplicados exactos.\")"
      ],
      "metadata": {
        "colab": {
          "base_uri": "https://localhost:8080/"
        },
        "id": "t_DAnYhER-Pg",
        "outputId": "8ac15690-dbb8-49dc-e9f0-e9906bd93428"
      },
      "execution_count": 316,
      "outputs": [
        {
          "output_type": "stream",
          "name": "stdout",
          "text": [
            "    ID  Nombre  Edad    Ciudad FechaRegistro\n",
            "0  101     Ana    25    Bogotá    2023-01-01\n",
            "1  102    Luis    30      Cali    2023-01-05\n",
            "3  103   Marta    29  Medellín    2023-01-10\n",
            "4  104  Carlos    40      Cali    2023-01-15\n",
            "6  104  Carlos    41      Cali    2023-01-16\n",
            "Quedan 5 registros después de eliminar los duplicados exactos.\n"
          ]
        }
      ]
    },
    {
      "cell_type": "markdown",
      "source": [
        "La fila 6 (Carlos, 41 años) no se elimina porque no es un duplicado exacto, sus datos de 'Edad' y 'FechaRegistro' son diferentes al registro anterior pero asumo que es una actualización valida."
      ],
      "metadata": {
        "id": "6raAYRY2Whx_"
      }
    },
    {
      "cell_type": "markdown",
      "source": [
        "# Ejercicio 3. Corrección de errores tipográficos o de codificación\n"
      ],
      "metadata": {
        "id": "yQ_ql9xIHdsN"
      }
    },
    {
      "cell_type": "code",
      "source": [
        "df_ciudades = pd.DataFrame({\n",
        "    'Ciudad': ['bogota', 'Bogotá', 'BOGOTA', 'bogotá', 'bogata', 'Bógota', 'BogoTa', 'Cali', 'calí', 'medellín', 'medellin']\n",
        "})"
      ],
      "metadata": {
        "id": "dtzRVBrrX4uU"
      },
      "execution_count": 317,
      "outputs": []
    },
    {
      "cell_type": "markdown",
      "source": [
        "##Valores Únicos"
      ],
      "metadata": {
        "id": "1LxXGsq3YVdS"
      }
    },
    {
      "cell_type": "code",
      "source": [
        "print(df_ciudades['Ciudad'].unique())"
      ],
      "metadata": {
        "colab": {
          "base_uri": "https://localhost:8080/"
        },
        "id": "rj7Ti8RtYbxS",
        "outputId": "6aa2baed-3b1c-4d85-88ac-1d77efa679e0"
      },
      "execution_count": 318,
      "outputs": [
        {
          "output_type": "stream",
          "name": "stdout",
          "text": [
            "['bogota' 'Bogotá' 'BOGOTA' 'bogotá' 'bogata' 'Bógota' 'BogoTa' 'Cali'\n",
            " 'calí' 'medellín' 'medellin']\n"
          ]
        }
      ]
    },
    {
      "cell_type": "markdown",
      "source": [
        "##Proceso de estandarización"
      ],
      "metadata": {
        "id": "7fq6C9B9YxgR"
      }
    },
    {
      "cell_type": "markdown",
      "source": [
        "No usare fuzzy matching para este ejercicio porque nuestro conjunto de datos es muy pequeño y los errores son fáciles de identificar."
      ],
      "metadata": {
        "id": "HPGD33AwZNyx"
      }
    },
    {
      "cell_type": "markdown",
      "source": [
        "Convertir todo a minúsculas"
      ],
      "metadata": {
        "id": "SkbiS0QRZffA"
      }
    },
    {
      "cell_type": "code",
      "source": [
        "df_ciudades['Ciudad_minusculas'] = df_ciudades['Ciudad'].str.lower()\n",
        "print(df_ciudades)"
      ],
      "metadata": {
        "colab": {
          "base_uri": "https://localhost:8080/"
        },
        "id": "EMz7G8EFZkEX",
        "outputId": "a5954113-4f89-4373-cb3d-0fea2a32ad8f"
      },
      "execution_count": 319,
      "outputs": [
        {
          "output_type": "stream",
          "name": "stdout",
          "text": [
            "      Ciudad Ciudad_minusculas\n",
            "0     bogota            bogota\n",
            "1     Bogotá            bogotá\n",
            "2     BOGOTA            bogota\n",
            "3     bogotá            bogotá\n",
            "4     bogata            bogata\n",
            "5     Bógota            bógota\n",
            "6     BogoTa            bogota\n",
            "7       Cali              cali\n",
            "8       calí              calí\n",
            "9   medellín          medellín\n",
            "10  medellin          medellin\n"
          ]
        }
      ]
    },
    {
      "cell_type": "markdown",
      "source": [
        "Crear un diccionario de reemplazos para corregir tildes y errores."
      ],
      "metadata": {
        "id": "_C4-jvnHbQJd"
      }
    },
    {
      "cell_type": "code",
      "source": [
        "reemplazos = {\n",
        "    'bogotá': 'bogotá',\n",
        "    'bogota': 'bogotá',\n",
        "    'bógota': 'bogotá',\n",
        "    'bogata': 'bogotá',\n",
        "    'calí': 'cali',\n",
        "    'cali': 'cali',\n",
        "    'medellín': 'medellín',\n",
        "    'medellin': 'medellín'\n",
        "}\n",
        "\n",
        "# Apliquee los reemplazos a la columna que ya está en minúsculas.\n",
        "df_ciudades['Ciudad_Estandarizada'] = df_ciudades['Ciudad_minusculas'].map(reemplazos)\n",
        "\n",
        "print(\"DataFrame con Ciudades Estandarizadas ---\")\n",
        "print(df_ciudades)"
      ],
      "metadata": {
        "colab": {
          "base_uri": "https://localhost:8080/"
        },
        "id": "zcRU879JaDAu",
        "outputId": "2c95ac70-6604-4e3d-a7a1-5b7da6064508"
      },
      "execution_count": 320,
      "outputs": [
        {
          "output_type": "stream",
          "name": "stdout",
          "text": [
            "DataFrame con Ciudades Estandarizadas ---\n",
            "      Ciudad Ciudad_minusculas Ciudad_Estandarizada\n",
            "0     bogota            bogota               bogotá\n",
            "1     Bogotá            bogotá               bogotá\n",
            "2     BOGOTA            bogota               bogotá\n",
            "3     bogotá            bogotá               bogotá\n",
            "4     bogata            bogata               bogotá\n",
            "5     Bógota            bógota               bogotá\n",
            "6     BogoTa            bogota               bogotá\n",
            "7       Cali              cali                 cali\n",
            "8       calí              calí                 cali\n",
            "9   medellín          medellín             medellín\n",
            "10  medellin          medellin             medellín\n"
          ]
        }
      ]
    },
    {
      "cell_type": "markdown",
      "source": [
        "Ciudades Estandarizadas y sus Valores Únicos"
      ],
      "metadata": {
        "id": "Bn10xsvScPOz"
      }
    },
    {
      "cell_type": "code",
      "source": [
        "df_ciudades = df_ciudades['Ciudad_Estandarizada']\n",
        "print(df_ciudades)\n",
        "\n",
        "print(\"\\n Valores unicos:\")\n",
        "print(df_ciudades.unique())"
      ],
      "metadata": {
        "colab": {
          "base_uri": "https://localhost:8080/"
        },
        "id": "uVm_UHnlcQu7",
        "outputId": "39d697fb-7e3c-491f-d8c2-da668cb6d714"
      },
      "execution_count": 321,
      "outputs": [
        {
          "output_type": "stream",
          "name": "stdout",
          "text": [
            "0       bogotá\n",
            "1       bogotá\n",
            "2       bogotá\n",
            "3       bogotá\n",
            "4       bogotá\n",
            "5       bogotá\n",
            "6       bogotá\n",
            "7         cali\n",
            "8         cali\n",
            "9     medellín\n",
            "10    medellín\n",
            "Name: Ciudad_Estandarizada, dtype: object\n",
            "\n",
            " Valores unicos:\n",
            "['bogotá' 'cali' 'medellín']\n"
          ]
        }
      ]
    }
  ]
}