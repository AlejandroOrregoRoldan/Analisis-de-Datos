{
  "cells": [
    {
      "cell_type": "markdown",
      "metadata": {
        "id": "a3KXkPNB9Cv1"
      },
      "source": [
        "##Preparación de datos y librerías"
      ]
    },
    {
      "cell_type": "code",
      "execution_count": 1,
      "metadata": {
        "colab": {
          "base_uri": "https://localhost:8080/"
        },
        "id": "1ECv9Y-z5XYD",
        "outputId": "dc8448fb-807d-4827-b75b-2d477d433abd"
      },
      "outputs": [
        {
          "name": "stderr",
          "output_type": "stream",
          "text": [
            "C:\\Users\\Alejo\\AppData\\Roaming\\Python\\Python312\\site-packages\\tqdm\\auto.py:21: TqdmWarning: IProgress not found. Please update jupyter and ipywidgets. See https://ipywidgets.readthedocs.io/en/stable/user_install.html\n",
            "  from .autonotebook import tqdm as notebook_tqdm\n"
          ]
        },
        {
          "name": "stdout",
          "output_type": "stream",
          "text": [
            "Path to dataset files: C:\\Users\\Alejo\\.cache\\kagglehub\\datasets\\janiobachmann\\bank-marketing-dataset\\versions\\1\n"
          ]
        }
      ],
      "source": [
        "import kagglehub\n",
        "\n",
        "# Download latest version\n",
        "path = kagglehub.dataset_download(\"janiobachmann/bank-marketing-dataset\")\n",
        "\n",
        "print(\"Path to dataset files:\", path)"
      ]
    },
    {
      "cell_type": "code",
      "execution_count": 2,
      "metadata": {
        "colab": {
          "base_uri": "https://localhost:8080/",
          "height": 261
        },
        "id": "FyLboHIO5brk",
        "outputId": "543ced0c-3a1b-416c-f53e-dec6fd7a5029"
      },
      "outputs": [
        {
          "name": "stdout",
          "output_type": "stream",
          "text": [
            "['bank.csv']\n"
          ]
        },
        {
          "data": {
            "text/html": [
              "<div>\n",
              "<style scoped>\n",
              "    .dataframe tbody tr th:only-of-type {\n",
              "        vertical-align: middle;\n",
              "    }\n",
              "\n",
              "    .dataframe tbody tr th {\n",
              "        vertical-align: top;\n",
              "    }\n",
              "\n",
              "    .dataframe thead th {\n",
              "        text-align: right;\n",
              "    }\n",
              "</style>\n",
              "<table border=\"1\" class=\"dataframe\">\n",
              "  <thead>\n",
              "    <tr style=\"text-align: right;\">\n",
              "      <th></th>\n",
              "      <th>age</th>\n",
              "      <th>job</th>\n",
              "      <th>marital</th>\n",
              "      <th>education</th>\n",
              "      <th>default</th>\n",
              "      <th>balance</th>\n",
              "      <th>housing</th>\n",
              "      <th>loan</th>\n",
              "      <th>contact</th>\n",
              "      <th>day</th>\n",
              "      <th>month</th>\n",
              "      <th>duration</th>\n",
              "      <th>campaign</th>\n",
              "      <th>pdays</th>\n",
              "      <th>previous</th>\n",
              "      <th>poutcome</th>\n",
              "      <th>deposit</th>\n",
              "    </tr>\n",
              "  </thead>\n",
              "  <tbody>\n",
              "    <tr>\n",
              "      <th>0</th>\n",
              "      <td>59</td>\n",
              "      <td>admin.</td>\n",
              "      <td>married</td>\n",
              "      <td>secondary</td>\n",
              "      <td>no</td>\n",
              "      <td>2343</td>\n",
              "      <td>yes</td>\n",
              "      <td>no</td>\n",
              "      <td>unknown</td>\n",
              "      <td>5</td>\n",
              "      <td>may</td>\n",
              "      <td>1042</td>\n",
              "      <td>1</td>\n",
              "      <td>-1</td>\n",
              "      <td>0</td>\n",
              "      <td>unknown</td>\n",
              "      <td>yes</td>\n",
              "    </tr>\n",
              "    <tr>\n",
              "      <th>1</th>\n",
              "      <td>56</td>\n",
              "      <td>admin.</td>\n",
              "      <td>married</td>\n",
              "      <td>secondary</td>\n",
              "      <td>no</td>\n",
              "      <td>45</td>\n",
              "      <td>no</td>\n",
              "      <td>no</td>\n",
              "      <td>unknown</td>\n",
              "      <td>5</td>\n",
              "      <td>may</td>\n",
              "      <td>1467</td>\n",
              "      <td>1</td>\n",
              "      <td>-1</td>\n",
              "      <td>0</td>\n",
              "      <td>unknown</td>\n",
              "      <td>yes</td>\n",
              "    </tr>\n",
              "    <tr>\n",
              "      <th>2</th>\n",
              "      <td>41</td>\n",
              "      <td>technician</td>\n",
              "      <td>married</td>\n",
              "      <td>secondary</td>\n",
              "      <td>no</td>\n",
              "      <td>1270</td>\n",
              "      <td>yes</td>\n",
              "      <td>no</td>\n",
              "      <td>unknown</td>\n",
              "      <td>5</td>\n",
              "      <td>may</td>\n",
              "      <td>1389</td>\n",
              "      <td>1</td>\n",
              "      <td>-1</td>\n",
              "      <td>0</td>\n",
              "      <td>unknown</td>\n",
              "      <td>yes</td>\n",
              "    </tr>\n",
              "    <tr>\n",
              "      <th>3</th>\n",
              "      <td>55</td>\n",
              "      <td>services</td>\n",
              "      <td>married</td>\n",
              "      <td>secondary</td>\n",
              "      <td>no</td>\n",
              "      <td>2476</td>\n",
              "      <td>yes</td>\n",
              "      <td>no</td>\n",
              "      <td>unknown</td>\n",
              "      <td>5</td>\n",
              "      <td>may</td>\n",
              "      <td>579</td>\n",
              "      <td>1</td>\n",
              "      <td>-1</td>\n",
              "      <td>0</td>\n",
              "      <td>unknown</td>\n",
              "      <td>yes</td>\n",
              "    </tr>\n",
              "    <tr>\n",
              "      <th>4</th>\n",
              "      <td>54</td>\n",
              "      <td>admin.</td>\n",
              "      <td>married</td>\n",
              "      <td>tertiary</td>\n",
              "      <td>no</td>\n",
              "      <td>184</td>\n",
              "      <td>no</td>\n",
              "      <td>no</td>\n",
              "      <td>unknown</td>\n",
              "      <td>5</td>\n",
              "      <td>may</td>\n",
              "      <td>673</td>\n",
              "      <td>2</td>\n",
              "      <td>-1</td>\n",
              "      <td>0</td>\n",
              "      <td>unknown</td>\n",
              "      <td>yes</td>\n",
              "    </tr>\n",
              "  </tbody>\n",
              "</table>\n",
              "</div>"
            ],
            "text/plain": [
              "   age         job  marital  education default  balance housing loan  contact  \\\n",
              "0   59      admin.  married  secondary      no     2343     yes   no  unknown   \n",
              "1   56      admin.  married  secondary      no       45      no   no  unknown   \n",
              "2   41  technician  married  secondary      no     1270     yes   no  unknown   \n",
              "3   55    services  married  secondary      no     2476     yes   no  unknown   \n",
              "4   54      admin.  married   tertiary      no      184      no   no  unknown   \n",
              "\n",
              "   day month  duration  campaign  pdays  previous poutcome deposit  \n",
              "0    5   may      1042         1     -1         0  unknown     yes  \n",
              "1    5   may      1467         1     -1         0  unknown     yes  \n",
              "2    5   may      1389         1     -1         0  unknown     yes  \n",
              "3    5   may       579         1     -1         0  unknown     yes  \n",
              "4    5   may       673         2     -1         0  unknown     yes  "
            ]
          },
          "execution_count": 2,
          "metadata": {},
          "output_type": "execute_result"
        },
        {
          "data": {
            "text/plain": [
              "<Figure size 1200x600 with 0 Axes>"
            ]
          },
          "metadata": {},
          "output_type": "display_data"
        }
      ],
      "source": [
        "# Librerías\n",
        "import pandas as pd\n",
        "import seaborn as sns\n",
        "import matplotlib.pyplot as plt\n",
        "import os\n",
        "\n",
        "# Estilo general\n",
        "sns.set_theme(style=\"whitegrid\")\n",
        "plt.figure(figsize=(12, 6))\n",
        "\n",
        "# Revisar los archivos descargados\n",
        "print(os.listdir(path))\n",
        "\n",
        "df = pd.read_csv(os.path.join(path, \"bank.csv\"))\n",
        "\n",
        "df.head()"
      ]
    },
    {
      "cell_type": "markdown",
      "metadata": {
        "id": "s-J3fX9e9RSc"
      },
      "source": [
        "##1. Introducción\n",
        "\n",
        "Problema de investigación: ¿Qué factores influyen en que un cliente acepte o no un depósito a plazo fijo durante una campaña de marketing bancario?\n",
        "\n",
        "Relevancia\n",
        "\n",
        "Las campañas de telemarketing son costosas.\n",
        "\n",
        "Identificar patrones de éxito permite reducir costos y aumentar la tasa de conversión.\n",
        "\n",
        "Relación con la base de datoss\n",
        "\n",
        "El dataset contiene datos demográficos, financieros y de interacción con campañas pasadas de clientes.\n",
        "\n",
        "La variable objetivo es depósito (si el cliente aceptó abrir el depósito o no)."
      ]
    },
    {
      "cell_type": "markdown",
      "metadata": {
        "id": "Xh3hoqlS9sM8"
      },
      "source": [
        "##2. Descripción de la base de datos"
      ]
    },
    {
      "cell_type": "markdown",
      "metadata": {
        "id": "Ku2tTKKWFJQM"
      },
      "source": [
        "Número de registros y variables"
      ]
    },
    {
      "cell_type": "code",
      "execution_count": 3,
      "metadata": {
        "colab": {
          "base_uri": "https://localhost:8080/"
        },
        "id": "f7XkmqbzFM9U",
        "outputId": "2ffe41a4-bc3f-4021-82d6-eb442438bc2f"
      },
      "outputs": [
        {
          "name": "stdout",
          "output_type": "stream",
          "text": [
            "Número de registros: 11162\n",
            "Número de variables: 17\n"
          ]
        }
      ],
      "source": [
        "print(f\"Número de registros: {df.shape[0]}\")\n",
        "print(f\"Número de variables: {df.shape[1]}\")"
      ]
    },
    {
      "cell_type": "markdown",
      "metadata": {
        "id": "JPHU6xRaFPGs"
      },
      "source": [
        "Tipos de datos por variable"
      ]
    },
    {
      "cell_type": "code",
      "execution_count": 4,
      "metadata": {
        "colab": {
          "base_uri": "https://localhost:8080/"
        },
        "id": "FSVKnvJ7FQtk",
        "outputId": "c5a642a6-43a9-4746-c7e4-e77490dcb90e"
      },
      "outputs": [
        {
          "name": "stdout",
          "output_type": "stream",
          "text": [
            "\n",
            "Tipos de datos por variable:\n",
            "object    10\n",
            "int64      7\n",
            "Name: count, dtype: int64\n"
          ]
        }
      ],
      "source": [
        "print(\"\\nTipos de datos por variable:\")\n",
        "print(df.dtypes.value_counts())"
      ]
    },
    {
      "cell_type": "markdown",
      "metadata": {
        "id": "ym8gAOaeFTIc"
      },
      "source": [
        "Variables categóricas y numéricas"
      ]
    },
    {
      "cell_type": "code",
      "execution_count": 5,
      "metadata": {
        "colab": {
          "base_uri": "https://localhost:8080/"
        },
        "id": "1pQrb9sOFUxU",
        "outputId": "616cabc2-a156-4a02-dd5d-e64e71bc8a2f"
      },
      "outputs": [
        {
          "name": "stdout",
          "output_type": "stream",
          "text": [
            "🔹 Variables categóricas:\n",
            "- job\n",
            "- marital\n",
            "- education\n",
            "- default\n",
            "- housing\n",
            "- loan\n",
            "- contact\n",
            "- month\n",
            "- poutcome\n",
            "- deposit\n",
            "\n",
            "🔸 Variables numéricas:\n",
            "- age\n",
            "- balance\n",
            "- day\n",
            "- duration\n",
            "- campaign\n",
            "- pdays\n",
            "- previous\n"
          ]
        }
      ],
      "source": [
        "categoricas = df.select_dtypes(include=['object', 'bool']).columns.tolist()\n",
        "numericas = df.select_dtypes(include=['int64', 'float64']).columns.tolist()\n",
        "\n",
        "print(\"🔹 Variables categóricas:\")\n",
        "print(\"\\n\".join([f\"- {col}\" for col in categoricas]))\n",
        "\n",
        "print(\"\\n🔸 Variables numéricas:\")\n",
        "print(\"\\n\".join([f\"- {col}\" for col in numericas]))"
      ]
    },
    {
      "cell_type": "markdown",
      "metadata": {
        "id": "Ad4v3SUdFcC8"
      },
      "source": [
        "Estadísticas descriptivas de las variables numéricas"
      ]
    },
    {
      "cell_type": "code",
      "execution_count": 6,
      "metadata": {
        "colab": {
          "base_uri": "https://localhost:8080/"
        },
        "id": "WoJYFrYA5hVt",
        "outputId": "3aa36a0b-2d1d-4fb2-893e-2e6e0c577aea"
      },
      "outputs": [
        {
          "name": "stdout",
          "output_type": "stream",
          "text": [
            "\n",
            "Descripción de variables numéricas:\n",
            "                age       balance           day      duration      campaign  \\\n",
            "count  11162.000000  11162.000000  11162.000000  11162.000000  11162.000000   \n",
            "mean      41.231948   1528.538524     15.658036    371.993818      2.508421   \n",
            "std       11.913369   3225.413326      8.420740    347.128386      2.722077   \n",
            "min       18.000000  -6847.000000      1.000000      2.000000      1.000000   \n",
            "25%       32.000000    122.000000      8.000000    138.000000      1.000000   \n",
            "50%       39.000000    550.000000     15.000000    255.000000      2.000000   \n",
            "75%       49.000000   1708.000000     22.000000    496.000000      3.000000   \n",
            "max       95.000000  81204.000000     31.000000   3881.000000     63.000000   \n",
            "\n",
            "              pdays      previous  \n",
            "count  11162.000000  11162.000000  \n",
            "mean      51.330407      0.832557  \n",
            "std      108.758282      2.292007  \n",
            "min       -1.000000      0.000000  \n",
            "25%       -1.000000      0.000000  \n",
            "50%       -1.000000      0.000000  \n",
            "75%       20.750000      1.000000  \n",
            "max      854.000000     58.000000  \n"
          ]
        }
      ],
      "source": [
        "print(\"\\nDescripción de variables numéricas:\")\n",
        "print(df.describe())"
      ]
    },
    {
      "cell_type": "markdown",
      "metadata": {
        "id": "_sjEGoRi-G0k"
      },
      "source": [
        "## 3. Análisis inicial"
      ]
    },
    {
      "cell_type": "markdown",
      "metadata": {
        "id": "rq9oY7mFGDtM"
      },
      "source": [
        "Valores faltantes"
      ]
    },
    {
      "cell_type": "code",
      "execution_count": 7,
      "metadata": {
        "colab": {
          "base_uri": "https://localhost:8080/"
        },
        "id": "3MUWN88qGIjM",
        "outputId": "c080c572-fc3e-45ce-a478-6d6df89e0931"
      },
      "outputs": [
        {
          "name": "stdout",
          "output_type": "stream",
          "text": [
            "\n",
            "Conteo de valores faltantes por variable:\n",
            "Series([], dtype: int64)\n"
          ]
        }
      ],
      "source": [
        "faltantes = df.isnull().sum().sort_values(ascending=False)\n",
        "print(\"\\nConteo de valores faltantes por variable:\")\n",
        "print(faltantes[faltantes > 0])\n",
        "\n",
        "#La dataset está completa, no hay que imputar nada."
      ]
    },
    {
      "cell_type": "markdown",
      "metadata": {
        "id": "Kt6XXupSGMoc"
      },
      "source": [
        "La dataset está completa, no hay que imputar nada.\n",
        "\n",
        "\n"
      ]
    },
    {
      "cell_type": "markdown",
      "metadata": {
        "id": "R4ufdJzQGSvs"
      },
      "source": [
        "Conteo de valores únicos"
      ]
    },
    {
      "cell_type": "code",
      "execution_count": 8,
      "metadata": {
        "colab": {
          "base_uri": "https://localhost:8080/"
        },
        "id": "ThFTdUPUGdx8",
        "outputId": "6fd84d4d-5216-4953-8ca8-c48f01a396b5"
      },
      "outputs": [
        {
          "name": "stdout",
          "output_type": "stream",
          "text": [
            "\n",
            "Conteo de valores únicos por variable:\n",
            "balance      3805\n",
            "duration     1428\n",
            "pdays         472\n",
            "age            76\n",
            "campaign       36\n",
            "previous       34\n",
            "day            31\n",
            "month          12\n",
            "job            12\n",
            "poutcome        4\n",
            "education       4\n",
            "marital         3\n",
            "contact         3\n",
            "loan            2\n",
            "housing         2\n",
            "default         2\n",
            "deposit         2\n",
            "dtype: int64\n"
          ]
        }
      ],
      "source": [
        "print(\"\\nConteo de valores únicos por variable:\")\n",
        "print(df.nunique().sort_values(ascending=False))"
      ]
    },
    {
      "cell_type": "markdown",
      "metadata": {
        "id": "F2dJP024GgV0"
      },
      "source": [
        "variables clave"
      ]
    },
    {
      "cell_type": "code",
      "execution_count": 9,
      "metadata": {
        "colab": {
          "base_uri": "https://localhost:8080/"
        },
        "id": "3JMJizUU-KZc",
        "outputId": "29474c57-f631-4b6e-fd2b-8646b70e4ed5"
      },
      "outputs": [
        {
          "name": "stdout",
          "output_type": "stream",
          "text": [
            "\n",
            "Vista rápida de variables clave:\n",
            "   age  balance  duration  campaign  previous poutcome deposit\n",
            "0   59     2343      1042         1         0  unknown     yes\n",
            "1   56       45      1467         1         0  unknown     yes\n",
            "2   41     1270      1389         1         0  unknown     yes\n",
            "3   55     2476       579         1         0  unknown     yes\n",
            "4   54      184       673         2         0  unknown     yes\n",
            "\n",
            "Estadísticas descriptivas de variables clave:\n",
            "                age       balance      duration      campaign      previous\n",
            "count  11162.000000  11162.000000  11162.000000  11162.000000  11162.000000\n",
            "mean      41.231948   1528.538524    371.993818      2.508421      0.832557\n",
            "std       11.913369   3225.413326    347.128386      2.722077      2.292007\n",
            "min       18.000000  -6847.000000      2.000000      1.000000      0.000000\n",
            "25%       32.000000    122.000000    138.000000      1.000000      0.000000\n",
            "50%       39.000000    550.000000    255.000000      2.000000      0.000000\n",
            "75%       49.000000   1708.000000    496.000000      3.000000      1.000000\n",
            "max       95.000000  81204.000000   3881.000000     63.000000     58.000000\n"
          ]
        }
      ],
      "source": [
        "variables_clave = ['age', 'balance', 'duration', 'campaign', 'previous', 'poutcome', 'deposit']\n",
        "\n",
        "print(\"\\nVista rápida de variables clave:\")\n",
        "print(df[variables_clave].head())\n",
        "\n",
        "print(\"\\nEstadísticas descriptivas de variables clave:\")\n",
        "print(df[variables_clave].describe())"
      ]
    },
    {
      "cell_type": "markdown",
      "metadata": {
        "id": "Joku-dVDAt28"
      },
      "source": [
        "##4. Visualizaciones exploratorias"
      ]
    },
    {
      "cell_type": "markdown",
      "metadata": {
        "id": "xcNhZc8KBaGk"
      },
      "source": [
        "Histograma de edades"
      ]
    },
    {
      "cell_type": "code",
      "execution_count": 10,
      "metadata": {
        "colab": {
          "base_uri": "https://localhost:8080/",
          "height": 480
        },
        "id": "g5VxAoGBAwl0",
        "outputId": "2cce5ce7-13dc-43c9-a05d-d385596f3369"
      },
      "outputs": [
        {
          "data": {
            "image/png": "[encoded data removed]",
            "text/plain": [
              "<Figure size 640x480 with 1 Axes>"
            ]
          },
          "metadata": {},
          "output_type": "display_data"
        }
      ],
      "source": [
        "sns.histplot(df['age'], bins=30, kde=True)\n",
        "plt.title(\"Distribución de la edad de los clientes\")\n",
        "plt.show()"
      ]
    },
    {
      "cell_type": "markdown",
      "metadata": {
        "id": "GoqH0rF_BiZM"
      },
      "source": [
        "Gráfico de barras: depósito (target)"
      ]
    },
    {
      "cell_type": "code",
      "execution_count": 11,
      "metadata": {
        "colab": {
          "base_uri": "https://localhost:8080/",
          "height": 481
        },
        "id": "BOIr8EGeBSdl",
        "outputId": "5f8adf3d-7b53-4622-8153-58055fb4ee3c"
      },
      "outputs": [
        {
          "data": {
            "image/png": "[encoded data removed]",
            "text/plain": [
              "<Figure size 640x480 with 1 Axes>"
            ]
          },
          "metadata": {},
          "output_type": "display_data"
        }
      ],
      "source": [
        "sns.countplot(data=df, x='deposit')\n",
        "plt.title(\"Distribución de clientes que aceptaron el depósito\")\n",
        "plt.show()"
      ]
    },
    {
      "cell_type": "markdown",
      "metadata": {
        "id": "lco8HWWZBwX0"
      },
      "source": [
        "Relación entre balance y aceptación de depósito"
      ]
    },
    {
      "cell_type": "code",
      "execution_count": 12,
      "metadata": {
        "colab": {
          "base_uri": "https://localhost:8080/",
          "height": 481
        },
        "id": "Aol9V7gKBUp8",
        "outputId": "54b3dc7a-b297-4bf8-dd0d-225b16d4d97b"
      },
      "outputs": [
        {
          "data": {
            "image/png": "[encoded data removed]",
            "text/plain": [
              "<Figure size 640x480 with 1 Axes>"
            ]
          },
          "metadata": {},
          "output_type": "display_data"
        }
      ],
      "source": [
        "sns.boxplot(data=df, x=\"deposit\", y=\"balance\")\n",
        "plt.title(\"Balance bancario vs aceptación del depósito\")\n",
        "plt.show()"
      ]
    },
    {
      "cell_type": "markdown",
      "metadata": {
        "id": "IHvzbkenBzb0"
      },
      "source": [
        "Relación entre duración de llamada y depósito"
      ]
    },
    {
      "cell_type": "code",
      "execution_count": 13,
      "metadata": {
        "colab": {
          "base_uri": "https://localhost:8080/",
          "height": 481
        },
        "id": "fwGvj4F1BVt9",
        "outputId": "77db3745-5efc-4916-d871-c46f03260ac5"
      },
      "outputs": [
        {
          "data": {
            "image/png": "[encoded data removed]",
            "text/plain": [
              "<Figure size 640x480 with 1 Axes>"
            ]
          },
          "metadata": {},
          "output_type": "display_data"
        }
      ],
      "source": [
        "sns.boxplot(data=df, x=\"deposit\", y=\"duration\")\n",
        "plt.title(\"Duración de llamada vs aceptación del depósito\")\n",
        "plt.show()"
      ]
    },
    {
      "cell_type": "markdown",
      "metadata": {
        "id": "22__YybaB96s"
      },
      "source": [
        "##5. Interpretaciones iniciales"
      ]
    },
    {
      "cell_type": "markdown",
      "metadata": {
        "id": "_IToYVwYCFx0"
      },
      "source": [
        "\n",
        "La mayoría de clientes tienen entre 30 y 50 años.\n",
        "\n",
        "Los clientes con balances más altos muestran una mayor probabilidad de aceptar el depósito.\n",
        "\n",
        "La duración de la llamada parece ser un factor clave en la aceptación.\n",
        "\n",
        "El dataset está balanceado/desbalanceado respecto a la variable objetivo (depósito)."
      ]
    },
    {
      "cell_type": "markdown",
      "metadata": {
        "id": "7R8_EuxVCHFM"
      },
      "source": [
        "##6. Conclusiones"
      ]
    },
    {
      "cell_type": "markdown",
      "metadata": {
        "id": "4TgGDM6hCLlE"
      },
      "source": [
        "Se identificaron variables potencialmente influyentes: duración de la llamada, balance, edad.\n",
        "\n",
        "La variable objetivo depósito es binaria, ideal para un modelo de clasificación.\n",
        "\n",
        "Los siguientes pasos del proyecto incluyen: preparación de datos, selección de variables y entrenamiento de modelos predictivos."
      ]
    }
  ],
  "metadata": {
    "colab": {
      "provenance": []
    },
    "kernelspec": {
      "display_name": "Python 3",
      "name": "python3"
    },
    "language_info": {
      "codemirror_mode": {
        "name": "ipython",
        "version": 3
      },
      "file_extension": ".py",
      "mimetype": "text/x-python",
      "name": "python",
      "nbconvert_exporter": "python",
      "pygments_lexer": "ipython3",
      "version": "3.12.6"
    }
  },
  "nbformat": 4,
  "nbformat_minor": 0
}
